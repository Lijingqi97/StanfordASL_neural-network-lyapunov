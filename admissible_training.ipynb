{
 "cells": [
  {
   "cell_type": "code",
   "execution_count": 1,
   "metadata": {},
   "outputs": [],
   "source": [
    "%load_ext autoreload\n",
    "%autoreload 2\n",
    "\n",
    "# %matplotlib inline\n",
    "%matplotlib widget\n",
    "\n",
    "import numpy as np\n",
    "import matplotlib.pyplot as plt\n",
    "from mpl_toolkits.mplot3d import axes3d\n",
    "\n",
    "import cvxpy as cp\n",
    "import torch\n",
    "import torch.nn.functional as F\n",
    "from torch.utils.tensorboard import SummaryWriter\n",
    "\n",
    "from qpth.qp import QPFunction, QPSolvers\n",
    "\n",
    "import warnings\n",
    "warnings.filterwarnings('ignore')\n",
    "\n",
    "import sys,os\n",
    "sys.path.append(os.getcwd())\n",
    "\n",
    "import BallPaddleSystem\n",
    "import utils"
   ]
  },
  {
   "cell_type": "code",
   "execution_count": 2,
   "metadata": {},
   "outputs": [],
   "source": [
    "system = BallPaddleSystem.BallPaddleSystem(dt=.05,u_max=2.)\n",
    "ball_x0_min = np.array([0.25, -1.5])\n",
    "ball_x0_max = np.array([1.75, 2.])\n",
    "paddle_x0 = np.array([0.,0.])\n",
    "ball_xg = np.array([1.,0.])\n",
    "N = 20"
   ]
  },
  {
   "cell_type": "markdown",
   "metadata": {},
   "source": [
    "### Generate data of the cost-to-go"
   ]
  },
  {
   "cell_type": "code",
   "execution_count": 3,
   "metadata": {},
   "outputs": [],
   "source": [
    "dim_pos = 10\n",
    "dim_vel = 10\n",
    "ball_x0_pos = np.linspace(ball_x0_min[0], ball_x0_max[0], dim_pos)\n",
    "ball_x0_vel = np.linspace(ball_x0_min[1], ball_x0_max[1], dim_vel)\n",
    "BALL_POS, BALL_VEL = np.meshgrid(ball_x0_pos, ball_x0_vel)"
   ]
  },
  {
   "cell_type": "code",
   "execution_count": null,
   "metadata": {},
   "outputs": [],
   "source": [
    "BALL_VAL = np.zeros(BALL_POS.shape)\n",
    "for i in range(BALL_POS.shape[0]):\n",
    "    for j in range(BALL_POS.shape[1]):\n",
    "        (prob,objective,constraints,var) = system.get_trajectory_miqp(paddle_x0,[BALL_POS[i,j],BALL_VEL[i,j]],ball_xg,N)\n",
    "        prob.solve(solver=cp.CPLEX)\n",
    "        val = objective.value\n",
    "        if val:\n",
    "            BALL_VAL[i,j] = val\n",
    "        else:\n",
    "            BALL_VAL[i,j] = None\n",
    "            \n",
    "        utils.update_progress((i*BALL_POS.shape[1]+j+1)/(BALL_POS.shape[0]*BALL_POS.shape[1]))"
   ]
  },
  {
   "cell_type": "code",
   "execution_count": null,
   "metadata": {},
   "outputs": [],
   "source": [
    "# save training data\n",
    "np.savez('ball_paddle_values', BALL_VAL=BALL_VAL)"
   ]
  },
  {
   "cell_type": "code",
   "execution_count": 4,
   "metadata": {},
   "outputs": [],
   "source": [
    "# OR load training data\n",
    "data = np.load('ball_paddle_values.npz')\n",
    "BALL_VAL = data['BALL_VAL']"
   ]
  },
  {
   "cell_type": "code",
   "execution_count": 5,
   "metadata": {},
   "outputs": [],
   "source": [
    "# clean the data\n",
    "np.nan_to_num(BALL_VAL,copy=False,nan=np.nanmax(BALL_VAL));"
   ]
  },
  {
   "cell_type": "code",
   "execution_count": 6,
   "metadata": {},
   "outputs": [
    {
     "data": {
      "application/vnd.jupyter.widget-view+json": {
       "model_id": "0b77f2c19fbf4420bfd7805a636223a4",
       "version_major": 2,
       "version_minor": 0
      },
      "text/plain": [
       "Canvas(toolbar=Toolbar(toolitems=[('Home', 'Reset original view', 'home', 'home'), ('Back', 'Back to previous …"
      ]
     },
     "metadata": {},
     "output_type": "display_data"
    },
    {
     "data": {
      "text/plain": [
       "<mpl_toolkits.mplot3d.art3d.Poly3DCollection at 0x7f1de7aad940>"
      ]
     },
     "execution_count": 6,
     "metadata": {},
     "output_type": "execute_result"
    }
   ],
   "source": [
    "fig = plt.figure()\n",
    "ax = fig.gca(projection='3d')\n",
    "ax.plot_surface(BALL_POS, BALL_VEL, BALL_VAL, rstride=1, cstride=1,\n",
    "                cmap='plasma', edgecolor='none')\n",
    "# ax.scatter(BALL_POS, BALL_VEL, BALL_VAL)"
   ]
  },
  {
   "cell_type": "code",
   "execution_count": 7,
   "metadata": {},
   "outputs": [],
   "source": [
    "xy_data = np.vstack((np.reshape(BALL_POS,-1),np.reshape(BALL_VEL,-1))).T\n",
    "z_label = np.expand_dims(np.reshape(BALL_VAL,-1),axis=1)\n",
    "\n",
    "# shuffle it\n",
    "num_data = xy_data.shape[0]\n",
    "indx = np.arange(num_data)\n",
    "np.random.shuffle(indx)\n",
    "\n",
    "xy_data = xy_data[indx,:]\n",
    "z_label = z_label[indx,:]"
   ]
  },
  {
   "cell_type": "markdown",
   "metadata": {},
   "source": [
    "### Train a neural network to approximate it"
   ]
  },
  {
   "cell_type": "code",
   "execution_count": 8,
   "metadata": {},
   "outputs": [],
   "source": [
    "learning_rate = 1e-3\n",
    "batch_size = 50\n",
    "\n",
    "nn_width = 12\n",
    "model = torch.nn.Sequential(\n",
    "    torch.nn.Linear(2, nn_width),\n",
    "    torch.nn.ReLU(),\n",
    "    torch.nn.Linear(nn_width, nn_width),\n",
    "    torch.nn.ReLU(),\n",
    "    torch.nn.Linear(nn_width, 1)\n",
    ")\n",
    "model.double()\n",
    "\n",
    "loss_fn = torch.nn.MSELoss(reduction='sum')\n",
    "# optimizer = torch.optim.SGD(model.parameters(), lr=learning_rate)\n",
    "optimizer = torch.optim.Adam(model.parameters(), lr=learning_rate)\n",
    "\n",
    "writer = SummaryWriter()\n",
    "n_iter = 0"
   ]
  },
  {
   "cell_type": "code",
   "execution_count": null,
   "metadata": {},
   "outputs": [],
   "source": [
    "# optional: move to GPU\n",
    "model.cuda()"
   ]
  },
  {
   "cell_type": "code",
   "execution_count": 16,
   "metadata": {},
   "outputs": [
    {
     "name": "stdout",
     "output_type": "stream",
     "text": [
      "loss: 1.234993\n",
      "loss: 1.216912\n",
      "loss: 1.198645\n",
      "loss: 1.181591\n",
      "loss: 1.164702\n",
      "loss: 1.148796\n",
      "loss: 1.133222\n",
      "loss: 1.117933\n",
      "loss: 1.102833\n",
      "loss: 1.087311\n"
     ]
    }
   ],
   "source": [
    "device = next(model.parameters()).device\n",
    "xy_data_tensor = torch.from_numpy(xy_data).to(device)\n",
    "z_label_tensor = torch.from_numpy(z_label).to(device)\n",
    "\n",
    "num_epoch = 100\n",
    "\n",
    "for epoch in range(num_epoch):\n",
    "    batch_start = 0\n",
    "    while batch_start < num_data:\n",
    "        batch_end = min(num_data-1,batch_start+batch_size)\n",
    "        x = xy_data_tensor[batch_start:batch_end,:]\n",
    "        z = z_label_tensor[batch_start:batch_end,:]\n",
    "        z_pred = model(x)\n",
    "        loss = loss_fn(z_pred, z) / batch_size\n",
    "        optimizer.zero_grad()\n",
    "        loss.backward()\n",
    "        optimizer.step()\n",
    "        batch_start += batch_size\n",
    "        n_iter += 1\n",
    "    if epoch % 10 == 0:\n",
    "        print(\"loss: %f\" % loss.item())\n",
    "#         writer.add_scalar('Loss/train', loss.item(), n_iter)"
   ]
  },
  {
   "cell_type": "code",
   "execution_count": null,
   "metadata": {},
   "outputs": [],
   "source": [
    "writer.close()"
   ]
  },
  {
   "cell_type": "markdown",
   "metadata": {},
   "source": [
    "#### Find where the neural network over-approximates the most (becomes inadmissible)"
   ]
  },
  {
   "cell_type": "code",
   "execution_count": 17,
   "metadata": {},
   "outputs": [
    {
     "name": "stdout",
     "output_type": "stream",
     "text": [
      "-3.617129173895883\n"
     ]
    }
   ],
   "source": [
    "(prob,objective,constraints,var) = system.get_adversarial_miqp(model,paddle_x0,ball_x0_min,ball_x0_max,ball_xg,N)\n",
    "prob.solve(solver=cp.CPLEX)\n",
    "\n",
    "worst_input = np.array(var['zb'].value[:,0])\n",
    "worst_bi = np.array(var['bi'].value)\n",
    "worst_v = np.array([v.value for v in var['v']])\n",
    "\n",
    "print(objective.value)"
   ]
  },
  {
   "cell_type": "code",
   "execution_count": 22,
   "metadata": {},
   "outputs": [
    {
     "name": "stdout",
     "output_type": "stream",
     "text": [
      "-3.6171291737248996\n"
     ]
    }
   ],
   "source": [
    "# check if the relaxed problem is far off\n",
    "# (prob,objective,constraints,var) = system.get_adversarial_qp(model,paddle_x0,ball_x0_min,ball_x0_max,ball_xg,N)\n",
    "(prob,objective,constraints,var) = system.get_adversarial_qp(model,paddle_x0,ball_x0_min,ball_x0_max,ball_xg,N,bi=worst_bi,v=worst_v)\n",
    "prob.solve(verbose=False,solver=cp.CPLEX)\n",
    "\n",
    "print(objective.value)"
   ]
  },
  {
   "cell_type": "code",
   "execution_count": 20,
   "metadata": {},
   "outputs": [
    {
     "name": "stdout",
     "output_type": "stream",
     "text": [
      "-3.617128977456618\n"
     ]
    },
    {
     "data": {
      "text/plain": [
       "-3.617129173859638"
      ]
     },
     "execution_count": 20,
     "metadata": {},
     "output_type": "execute_result"
    }
   ],
   "source": [
    "# and diff solver accurate\n",
    "# prob = system.get_adversarial_qp_standard(model,paddle_x0,ball_x0_min,ball_x0_max,ball_xg,N)\n",
    "prob = system.get_adversarial_qp_standard(model,paddle_x0,ball_x0_min,ball_x0_max,ball_xg,N,bi=worst_bi,v=worst_v)\n",
    "qp_fun = QPFunction(verbose=False,solver=QPSolvers.CVXPY,check_Q_spd=True)\n",
    "x_adv = qp_fun(prob.Q + 1e-6*torch.eye(prob.num_vars).type(torch.DoubleTensor).to(device), prob.q, prob.G, prob.h, prob.A, prob.b)\n",
    "r = prob.eval_obj(x_adv)\n",
    "\n",
    "print(r.item())\n",
    "\n",
    "z = cp.Variable(prob.Q.shape[0])\n",
    "obj = cp.Minimize(.5 * cp.quad_form(z, prob.Q.detach().numpy()) + prob.q.detach().numpy() * z)\n",
    "con = [prob.G.detach().numpy()*z <= prob.h.detach().numpy(), prob.A.detach().numpy()*z == prob.b.detach().numpy()]\n",
    "cp_prob = cp.Problem(obj,con)\n",
    "cp_prob.solve(solver=cp.CPLEX,verbose=False)"
   ]
  },
  {
   "cell_type": "markdown",
   "metadata": {},
   "source": [
    "### Retrain the network but with admissibility regularization and check again"
   ]
  },
  {
   "cell_type": "code",
   "execution_count": 63,
   "metadata": {},
   "outputs": [],
   "source": [
    "learning_rate = 1e-3\n",
    "batch_size = 50\n",
    "\n",
    "nn_width = 12\n",
    "admissible_model = torch.nn.Sequential(\n",
    "    torch.nn.Linear(2, nn_width),\n",
    "    torch.nn.ReLU(),\n",
    "    torch.nn.Linear(nn_width, nn_width),\n",
    "    torch.nn.ReLU(),\n",
    "    torch.nn.Linear(nn_width, 1)\n",
    ")\n",
    "admissible_model.double()\n",
    "\n",
    "loss_fn = torch.nn.MSELoss(reduction='sum')\n",
    "optimizer = torch.optim.SGD(admissible_model.parameters(), lr=learning_rate)\n",
    "# optimizer = torch.optim.Adam(admissible_model.parameters(), lr=learning_rate)\n",
    "\n",
    "# writer = SummaryWriter()\n",
    "n_iter = 0"
   ]
  },
  {
   "cell_type": "code",
   "execution_count": null,
   "metadata": {},
   "outputs": [],
   "source": [
    "# optional: move to GPU\n",
    "admissible_model.cuda()"
   ]
  },
  {
   "cell_type": "code",
   "execution_count": 70,
   "metadata": {},
   "outputs": [
    {
     "name": "stdout",
     "output_type": "stream",
     "text": [
      "reg: 25.117094\n",
      "fit: 0.900096\n",
      "loss: 26.017190\n",
      "reg: 23.110666\n",
      "fit: 1.749394\n",
      "loss: 24.860060\n",
      "reg: 22.715418\n",
      "fit: 1.888962\n",
      "loss: 24.604379\n",
      "reg: 22.425434\n",
      "fit: 2.019556\n",
      "loss: 24.444990\n",
      "reg: 22.217964\n",
      "fit: 2.117336\n",
      "loss: 24.335300\n",
      "reg: 22.047666\n",
      "fit: 2.199488\n",
      "loss: 24.247155\n",
      "reg: 21.903345\n",
      "fit: 2.268819\n",
      "loss: 24.172164\n",
      "reg: 21.776138\n",
      "fit: 2.332706\n",
      "loss: 24.108845\n",
      "reg: 21.665665\n",
      "fit: 2.391284\n",
      "loss: 24.056949\n",
      "reg: 21.563360\n",
      "fit: 2.451991\n",
      "loss: 24.015351\n"
     ]
    }
   ],
   "source": [
    "device = next(admissible_model.parameters()).device\n",
    "xy_data_tensor = torch.from_numpy(xy_data).to(device)\n",
    "z_label_tensor = torch.from_numpy(z_label).to(device)\n",
    "\n",
    "num_epoch = 100\n",
    "\n",
    "qp_fun = QPFunction(verbose=False,solver=QPSolvers.CVXPY,check_Q_spd=True)\n",
    "\n",
    "regularize = True\n",
    "\n",
    "for epoch in range(num_epoch):\n",
    "    batch_start = 0\n",
    "    \n",
    "    while batch_start < num_data:\n",
    "        batch_end = min(num_data-1,batch_start+batch_size)\n",
    "        x = xy_data_tensor[batch_start:batch_end,:]\n",
    "        z = z_label_tensor[batch_start:batch_end,:]\n",
    "        z_pred = admissible_model(x)\n",
    "        \n",
    "        if regularize:\n",
    "            prob = system.get_adversarial_qp_standard(admissible_model,paddle_x0,ball_x0_min,ball_x0_max,ball_xg,N)\n",
    "            QI = 1e-6*torch.eye(prob.num_vars).to(device).type(prob.dtype)\n",
    "            x_adv = qp_fun(prob.Q + QI, prob.q, prob.G, prob.h, prob.A, prob.b)\n",
    "            r = prob.eval_obj(x_adv)\n",
    "            reg_loss = F.relu(-r)\n",
    "        else:\n",
    "            reg_loss = 0.\n",
    "        \n",
    "        fit_loss = loss_fn(z_pred, z) / batch_size \n",
    "    \n",
    "        loss = fit_loss + reg_loss\n",
    "    \n",
    "        optimizer.zero_grad()\n",
    "        loss.backward(retain_graph=True)\n",
    "        optimizer.step()\n",
    "        \n",
    "        batch_start += batch_size\n",
    "    \n",
    "    if epoch % 10 == 0:\n",
    "        if regularize:\n",
    "            print(\"reg: %f\" % reg_loss.item())\n",
    "        print(\"fit: %f\" % fit_loss.item())\n",
    "        print(\"loss: %f\" % loss.item())\n",
    "#         writer.add_scalar('Admissible/train', loss.item(), n_iter)"
   ]
  },
  {
   "cell_type": "code",
   "execution_count": 71,
   "metadata": {},
   "outputs": [
    {
     "name": "stdout",
     "output_type": "stream",
     "text": [
      "-2.255926770690712\n"
     ]
    }
   ],
   "source": [
    "(prob,objective,constraints,var) = system.get_adversarial_miqp(admissible_model,paddle_x0,ball_x0_min,ball_x0_max,ball_xg,N)\n",
    "prob.solve(solver=cp.CPLEX)\n",
    "\n",
    "worst_input_admiss = np.array(var['zb'].value[:,0])\n",
    "\n",
    "print(objective.value)"
   ]
  },
  {
   "cell_type": "code",
   "execution_count": 42,
   "metadata": {},
   "outputs": [
    {
     "name": "stdout",
     "output_type": "stream",
     "text": [
      "-21.318098218923428\n"
     ]
    }
   ],
   "source": [
    "(prob,objective,constraints,var) = system.get_adversarial_qp(admissible_model,paddle_x0,ball_x0_min,ball_x0_max,ball_xg,N)\n",
    "prob.solve()\n",
    "\n",
    "print(objective.value)"
   ]
  },
  {
   "cell_type": "markdown",
   "metadata": {},
   "source": [
    "### Trying with adversarial activations"
   ]
  },
  {
   "cell_type": "code",
   "execution_count": 77,
   "metadata": {},
   "outputs": [],
   "source": [
    "# trying the activation-based approach\n",
    "\n",
    "learning_rate = 1e-3\n",
    "batch_size = 50\n",
    "\n",
    "nn_width = 12\n",
    "admissible_model = torch.nn.Sequential(\n",
    "    torch.nn.Linear(2, nn_width),\n",
    "    torch.nn.ReLU(),\n",
    "    torch.nn.Linear(nn_width, nn_width),\n",
    "    torch.nn.ReLU(),\n",
    "    torch.nn.Linear(nn_width, 1)\n",
    ")\n",
    "admissible_model.double()\n",
    "\n",
    "loss_fn = torch.nn.MSELoss(reduction='sum')\n",
    "optimizer = torch.optim.SGD(admissible_model.parameters(), lr=learning_rate)\n",
    "# optimizer = torch.optim.Adam(admissible_model.parameters(), lr=learning_rate)"
   ]
  },
  {
   "cell_type": "code",
   "execution_count": null,
   "metadata": {},
   "outputs": [],
   "source": [
    "# optional: move to GPU\n",
    "admissible_model.cuda()"
   ]
  },
  {
   "cell_type": "code",
   "execution_count": 86,
   "metadata": {},
   "outputs": [
    {
     "name": "stdout",
     "output_type": "stream",
     "text": [
      "reg: 11.463003\n",
      "fit: 3.556810\n",
      "loss: 15.019813\n",
      "reg: 0.000000\n",
      "fit: 8.717121\n",
      "loss: 8.717121\n",
      "reg: 0.000000\n",
      "fit: 8.569960\n",
      "loss: 8.569960\n",
      "reg: 0.000000\n",
      "fit: 8.703406\n",
      "loss: 8.703406\n",
      "reg: 0.000000\n",
      "fit: 9.499193\n",
      "loss: 9.499193\n",
      "\n",
      "KeyboardInterrupt\n"
     ]
    },
    {
     "ename": "KeyboardInterrupt",
     "evalue": "",
     "output_type": "error",
     "traceback": [
      "\u001b[0;31m---------------------------------------------------------------------------\u001b[0m",
      "\u001b[0;31mKeyboardInterrupt\u001b[0m                         Traceback (most recent call last)",
      "\u001b[0;32m<ipython-input-86-04d19a9ae0a6>\u001b[0m in \u001b[0;36m<module>\u001b[0;34m\u001b[0m\n\u001b[1;32m     23\u001b[0m             \u001b[0;32mwith\u001b[0m \u001b[0mtorch\u001b[0m\u001b[0;34m.\u001b[0m\u001b[0mno_grad\u001b[0m\u001b[0;34m(\u001b[0m\u001b[0;34m)\u001b[0m\u001b[0;34m:\u001b[0m\u001b[0;34m\u001b[0m\u001b[0;34m\u001b[0m\u001b[0m\n\u001b[1;32m     24\u001b[0m                 \u001b[0;34m(\u001b[0m\u001b[0mprob\u001b[0m\u001b[0;34m,\u001b[0m\u001b[0mobjective\u001b[0m\u001b[0;34m,\u001b[0m\u001b[0mconstraints\u001b[0m\u001b[0;34m,\u001b[0m\u001b[0mvar\u001b[0m\u001b[0;34m)\u001b[0m \u001b[0;34m=\u001b[0m \u001b[0msystem\u001b[0m\u001b[0;34m.\u001b[0m\u001b[0mget_adversarial_miqp\u001b[0m\u001b[0;34m(\u001b[0m\u001b[0madmissible_model\u001b[0m\u001b[0;34m,\u001b[0m\u001b[0mpaddle_x0\u001b[0m\u001b[0;34m,\u001b[0m\u001b[0mball_x0_min\u001b[0m\u001b[0;34m,\u001b[0m\u001b[0mball_x0_max\u001b[0m\u001b[0;34m,\u001b[0m\u001b[0mball_xg\u001b[0m\u001b[0;34m,\u001b[0m\u001b[0mN\u001b[0m\u001b[0;34m)\u001b[0m\u001b[0;34m\u001b[0m\u001b[0;34m\u001b[0m\u001b[0m\n\u001b[0;32m---> 25\u001b[0;31m                 \u001b[0mprob\u001b[0m\u001b[0;34m.\u001b[0m\u001b[0msolve\u001b[0m\u001b[0;34m(\u001b[0m\u001b[0msolver\u001b[0m\u001b[0;34m=\u001b[0m\u001b[0mcp\u001b[0m\u001b[0;34m.\u001b[0m\u001b[0mCPLEX\u001b[0m\u001b[0;34m)\u001b[0m\u001b[0;34m\u001b[0m\u001b[0;34m\u001b[0m\u001b[0m\n\u001b[0m\u001b[1;32m     26\u001b[0m                 \u001b[0mbi\u001b[0m \u001b[0;34m=\u001b[0m \u001b[0mnp\u001b[0m\u001b[0;34m.\u001b[0m\u001b[0marray\u001b[0m\u001b[0;34m(\u001b[0m\u001b[0mvar\u001b[0m\u001b[0;34m[\u001b[0m\u001b[0;34m'bi'\u001b[0m\u001b[0;34m]\u001b[0m\u001b[0;34m.\u001b[0m\u001b[0mvalue\u001b[0m\u001b[0;34m)\u001b[0m\u001b[0;34m\u001b[0m\u001b[0;34m\u001b[0m\u001b[0m\n\u001b[1;32m     27\u001b[0m                 \u001b[0mv\u001b[0m \u001b[0;34m=\u001b[0m \u001b[0;34m[\u001b[0m\u001b[0mnp\u001b[0m\u001b[0;34m.\u001b[0m\u001b[0marray\u001b[0m\u001b[0;34m(\u001b[0m\u001b[0mv\u001b[0m\u001b[0;34m.\u001b[0m\u001b[0mvalue\u001b[0m\u001b[0;34m)\u001b[0m \u001b[0;32mfor\u001b[0m \u001b[0mv\u001b[0m \u001b[0;32min\u001b[0m \u001b[0mvar\u001b[0m\u001b[0;34m[\u001b[0m\u001b[0;34m'v'\u001b[0m\u001b[0;34m]\u001b[0m\u001b[0;34m]\u001b[0m\u001b[0;34m\u001b[0m\u001b[0;34m\u001b[0m\u001b[0m\n",
      "\u001b[0;32m~/.local/lib/python3.6/site-packages/cvxpy/problems/problem.py\u001b[0m in \u001b[0;36msolve\u001b[0;34m(self, *args, **kwargs)\u001b[0m\n\u001b[1;32m    287\u001b[0m         \u001b[0;32melse\u001b[0m\u001b[0;34m:\u001b[0m\u001b[0;34m\u001b[0m\u001b[0;34m\u001b[0m\u001b[0m\n\u001b[1;32m    288\u001b[0m             \u001b[0msolve_func\u001b[0m \u001b[0;34m=\u001b[0m \u001b[0mProblem\u001b[0m\u001b[0;34m.\u001b[0m\u001b[0m_solve\u001b[0m\u001b[0;34m\u001b[0m\u001b[0;34m\u001b[0m\u001b[0m\n\u001b[0;32m--> 289\u001b[0;31m         \u001b[0;32mreturn\u001b[0m \u001b[0msolve_func\u001b[0m\u001b[0;34m(\u001b[0m\u001b[0mself\u001b[0m\u001b[0;34m,\u001b[0m \u001b[0;34m*\u001b[0m\u001b[0margs\u001b[0m\u001b[0;34m,\u001b[0m \u001b[0;34m**\u001b[0m\u001b[0mkwargs\u001b[0m\u001b[0;34m)\u001b[0m\u001b[0;34m\u001b[0m\u001b[0;34m\u001b[0m\u001b[0m\n\u001b[0m\u001b[1;32m    290\u001b[0m \u001b[0;34m\u001b[0m\u001b[0m\n\u001b[1;32m    291\u001b[0m     \u001b[0;34m@\u001b[0m\u001b[0mclassmethod\u001b[0m\u001b[0;34m\u001b[0m\u001b[0;34m\u001b[0m\u001b[0m\n",
      "\u001b[0;32m~/.local/lib/python3.6/site-packages/cvxpy/problems/problem.py\u001b[0m in \u001b[0;36m_solve\u001b[0;34m(self, solver, warm_start, verbose, parallel, gp, qcp, **kwargs)\u001b[0m\n\u001b[1;32m    567\u001b[0m         \u001b[0mself\u001b[0m\u001b[0;34m.\u001b[0m\u001b[0m_construct_chains\u001b[0m\u001b[0;34m(\u001b[0m\u001b[0msolver\u001b[0m\u001b[0;34m=\u001b[0m\u001b[0msolver\u001b[0m\u001b[0;34m,\u001b[0m \u001b[0mgp\u001b[0m\u001b[0;34m=\u001b[0m\u001b[0mgp\u001b[0m\u001b[0;34m)\u001b[0m\u001b[0;34m\u001b[0m\u001b[0;34m\u001b[0m\u001b[0m\n\u001b[1;32m    568\u001b[0m         data, solving_inverse_data = self._solving_chain.apply(\n\u001b[0;32m--> 569\u001b[0;31m             self._intermediate_problem)\n\u001b[0m\u001b[1;32m    570\u001b[0m         solution = self._solving_chain.solve_via_data(\n\u001b[1;32m    571\u001b[0m             self, data, warm_start, verbose, kwargs)\n",
      "\u001b[0;32m~/.local/lib/python3.6/site-packages/cvxpy/reductions/chain.py\u001b[0m in \u001b[0;36mapply\u001b[0;34m(self, problem)\u001b[0m\n\u001b[1;32m     63\u001b[0m         \u001b[0minverse_data\u001b[0m \u001b[0;34m=\u001b[0m \u001b[0;34m[\u001b[0m\u001b[0;34m]\u001b[0m\u001b[0;34m\u001b[0m\u001b[0;34m\u001b[0m\u001b[0m\n\u001b[1;32m     64\u001b[0m         \u001b[0;32mfor\u001b[0m \u001b[0mr\u001b[0m \u001b[0;32min\u001b[0m \u001b[0mself\u001b[0m\u001b[0;34m.\u001b[0m\u001b[0mreductions\u001b[0m\u001b[0;34m:\u001b[0m\u001b[0;34m\u001b[0m\u001b[0;34m\u001b[0m\u001b[0m\n\u001b[0;32m---> 65\u001b[0;31m             \u001b[0mproblem\u001b[0m\u001b[0;34m,\u001b[0m \u001b[0minv\u001b[0m \u001b[0;34m=\u001b[0m \u001b[0mr\u001b[0m\u001b[0;34m.\u001b[0m\u001b[0mapply\u001b[0m\u001b[0;34m(\u001b[0m\u001b[0mproblem\u001b[0m\u001b[0;34m)\u001b[0m\u001b[0;34m\u001b[0m\u001b[0;34m\u001b[0m\u001b[0m\n\u001b[0m\u001b[1;32m     66\u001b[0m             \u001b[0minverse_data\u001b[0m\u001b[0;34m.\u001b[0m\u001b[0mappend\u001b[0m\u001b[0;34m(\u001b[0m\u001b[0minv\u001b[0m\u001b[0;34m)\u001b[0m\u001b[0;34m\u001b[0m\u001b[0;34m\u001b[0m\u001b[0m\n\u001b[1;32m     67\u001b[0m         \u001b[0;32mreturn\u001b[0m \u001b[0mproblem\u001b[0m\u001b[0;34m,\u001b[0m \u001b[0minverse_data\u001b[0m\u001b[0;34m\u001b[0m\u001b[0;34m\u001b[0m\u001b[0m\n",
      "\u001b[0;32m~/.local/lib/python3.6/site-packages/cvxpy/reductions/solvers/qp_solvers/qp_solver.py\u001b[0m in \u001b[0;36mapply\u001b[0;34m(self, problem)\u001b[0m\n\u001b[1;32m     89\u001b[0m             ineq_coeffs = list(zip(*[ConicSolver.get_coeff_offset(con.expr)\n\u001b[1;32m     90\u001b[0m                                      for con in ineq_cons]))\n\u001b[0;32m---> 91\u001b[0;31m             \u001b[0mF\u001b[0m \u001b[0;34m=\u001b[0m \u001b[0msp\u001b[0m\u001b[0;34m.\u001b[0m\u001b[0mvstack\u001b[0m\u001b[0;34m(\u001b[0m\u001b[0mineq_coeffs\u001b[0m\u001b[0;34m[\u001b[0m\u001b[0;36m0\u001b[0m\u001b[0;34m]\u001b[0m\u001b[0;34m)\u001b[0m\u001b[0;34m\u001b[0m\u001b[0;34m\u001b[0m\u001b[0m\n\u001b[0m\u001b[1;32m     92\u001b[0m             \u001b[0mg\u001b[0m \u001b[0;34m=\u001b[0m \u001b[0;34m-\u001b[0m \u001b[0mnp\u001b[0m\u001b[0;34m.\u001b[0m\u001b[0mconcatenate\u001b[0m\u001b[0;34m(\u001b[0m\u001b[0mineq_coeffs\u001b[0m\u001b[0;34m[\u001b[0m\u001b[0;36m1\u001b[0m\u001b[0;34m]\u001b[0m\u001b[0;34m)\u001b[0m\u001b[0;34m\u001b[0m\u001b[0;34m\u001b[0m\u001b[0m\n\u001b[1;32m     93\u001b[0m         \u001b[0;32melse\u001b[0m\u001b[0;34m:\u001b[0m\u001b[0;34m\u001b[0m\u001b[0;34m\u001b[0m\u001b[0m\n",
      "\u001b[0;32m~/.local/lib/python3.6/site-packages/scipy/sparse/construct.py\u001b[0m in \u001b[0;36mvstack\u001b[0;34m(blocks, format, dtype)\u001b[0m\n\u001b[1;32m    497\u001b[0m \u001b[0;34m\u001b[0m\u001b[0m\n\u001b[1;32m    498\u001b[0m     \"\"\"\n\u001b[0;32m--> 499\u001b[0;31m     \u001b[0;32mreturn\u001b[0m \u001b[0mbmat\u001b[0m\u001b[0;34m(\u001b[0m\u001b[0;34m[\u001b[0m\u001b[0;34m[\u001b[0m\u001b[0mb\u001b[0m\u001b[0;34m]\u001b[0m \u001b[0;32mfor\u001b[0m \u001b[0mb\u001b[0m \u001b[0;32min\u001b[0m \u001b[0mblocks\u001b[0m\u001b[0;34m]\u001b[0m\u001b[0;34m,\u001b[0m \u001b[0mformat\u001b[0m\u001b[0;34m=\u001b[0m\u001b[0mformat\u001b[0m\u001b[0;34m,\u001b[0m \u001b[0mdtype\u001b[0m\u001b[0;34m=\u001b[0m\u001b[0mdtype\u001b[0m\u001b[0;34m)\u001b[0m\u001b[0;34m\u001b[0m\u001b[0;34m\u001b[0m\u001b[0m\n\u001b[0m\u001b[1;32m    500\u001b[0m \u001b[0;34m\u001b[0m\u001b[0m\n\u001b[1;32m    501\u001b[0m \u001b[0;34m\u001b[0m\u001b[0m\n",
      "\u001b[0;32m~/.local/lib/python3.6/site-packages/scipy/sparse/construct.py\u001b[0m in \u001b[0;36mbmat\u001b[0;34m(blocks, format, dtype)\u001b[0m\n\u001b[1;32m    572\u001b[0m         \u001b[0;32mfor\u001b[0m \u001b[0mj\u001b[0m \u001b[0;32min\u001b[0m \u001b[0mrange\u001b[0m\u001b[0;34m(\u001b[0m\u001b[0mN\u001b[0m\u001b[0;34m)\u001b[0m\u001b[0;34m:\u001b[0m\u001b[0;34m\u001b[0m\u001b[0;34m\u001b[0m\u001b[0m\n\u001b[1;32m    573\u001b[0m             \u001b[0;32mif\u001b[0m \u001b[0mblocks\u001b[0m\u001b[0;34m[\u001b[0m\u001b[0mi\u001b[0m\u001b[0;34m,\u001b[0m\u001b[0mj\u001b[0m\u001b[0;34m]\u001b[0m \u001b[0;32mis\u001b[0m \u001b[0;32mnot\u001b[0m \u001b[0;32mNone\u001b[0m\u001b[0;34m:\u001b[0m\u001b[0;34m\u001b[0m\u001b[0;34m\u001b[0m\u001b[0m\n\u001b[0;32m--> 574\u001b[0;31m                 \u001b[0mA\u001b[0m \u001b[0;34m=\u001b[0m \u001b[0mcoo_matrix\u001b[0m\u001b[0;34m(\u001b[0m\u001b[0mblocks\u001b[0m\u001b[0;34m[\u001b[0m\u001b[0mi\u001b[0m\u001b[0;34m,\u001b[0m\u001b[0mj\u001b[0m\u001b[0;34m]\u001b[0m\u001b[0;34m)\u001b[0m\u001b[0;34m\u001b[0m\u001b[0;34m\u001b[0m\u001b[0m\n\u001b[0m\u001b[1;32m    575\u001b[0m                 \u001b[0mblocks\u001b[0m\u001b[0;34m[\u001b[0m\u001b[0mi\u001b[0m\u001b[0;34m,\u001b[0m\u001b[0mj\u001b[0m\u001b[0;34m]\u001b[0m \u001b[0;34m=\u001b[0m \u001b[0mA\u001b[0m\u001b[0;34m\u001b[0m\u001b[0;34m\u001b[0m\u001b[0m\n\u001b[1;32m    576\u001b[0m                 \u001b[0mblock_mask\u001b[0m\u001b[0;34m[\u001b[0m\u001b[0mi\u001b[0m\u001b[0;34m,\u001b[0m\u001b[0mj\u001b[0m\u001b[0;34m]\u001b[0m \u001b[0;34m=\u001b[0m \u001b[0;32mTrue\u001b[0m\u001b[0;34m\u001b[0m\u001b[0;34m\u001b[0m\u001b[0m\n",
      "\u001b[0;32m~/.local/lib/python3.6/site-packages/scipy/sparse/coo.py\u001b[0m in \u001b[0;36m__init__\u001b[0;34m(self, arg1, shape, dtype, copy)\u001b[0m\n\u001b[1;32m    170\u001b[0m                     \u001b[0mself\u001b[0m\u001b[0;34m.\u001b[0m\u001b[0m_shape\u001b[0m \u001b[0;34m=\u001b[0m \u001b[0mcheck_shape\u001b[0m\u001b[0;34m(\u001b[0m\u001b[0marg1\u001b[0m\u001b[0;34m.\u001b[0m\u001b[0mshape\u001b[0m\u001b[0;34m)\u001b[0m\u001b[0;34m\u001b[0m\u001b[0;34m\u001b[0m\u001b[0m\n\u001b[1;32m    171\u001b[0m                 \u001b[0;32melse\u001b[0m\u001b[0;34m:\u001b[0m\u001b[0;34m\u001b[0m\u001b[0;34m\u001b[0m\u001b[0m\n\u001b[0;32m--> 172\u001b[0;31m                     \u001b[0mcoo\u001b[0m \u001b[0;34m=\u001b[0m \u001b[0marg1\u001b[0m\u001b[0;34m.\u001b[0m\u001b[0mtocoo\u001b[0m\u001b[0;34m(\u001b[0m\u001b[0;34m)\u001b[0m\u001b[0;34m\u001b[0m\u001b[0;34m\u001b[0m\u001b[0m\n\u001b[0m\u001b[1;32m    173\u001b[0m                     \u001b[0mself\u001b[0m\u001b[0;34m.\u001b[0m\u001b[0mrow\u001b[0m \u001b[0;34m=\u001b[0m \u001b[0mcoo\u001b[0m\u001b[0;34m.\u001b[0m\u001b[0mrow\u001b[0m\u001b[0;34m\u001b[0m\u001b[0;34m\u001b[0m\u001b[0m\n\u001b[1;32m    174\u001b[0m                     \u001b[0mself\u001b[0m\u001b[0;34m.\u001b[0m\u001b[0mcol\u001b[0m \u001b[0;34m=\u001b[0m \u001b[0mcoo\u001b[0m\u001b[0;34m.\u001b[0m\u001b[0mcol\u001b[0m\u001b[0;34m\u001b[0m\u001b[0;34m\u001b[0m\u001b[0m\n",
      "\u001b[0;32m~/.local/lib/python3.6/site-packages/scipy/sparse/compressed.py\u001b[0m in \u001b[0;36mtocoo\u001b[0;34m(self, copy)\u001b[0m\n\u001b[1;32m   1009\u001b[0m         \u001b[0mmajor_dim\u001b[0m\u001b[0;34m,\u001b[0m \u001b[0mminor_dim\u001b[0m \u001b[0;34m=\u001b[0m \u001b[0mself\u001b[0m\u001b[0;34m.\u001b[0m\u001b[0m_swap\u001b[0m\u001b[0;34m(\u001b[0m\u001b[0mself\u001b[0m\u001b[0;34m.\u001b[0m\u001b[0mshape\u001b[0m\u001b[0;34m)\u001b[0m\u001b[0;34m\u001b[0m\u001b[0;34m\u001b[0m\u001b[0m\n\u001b[1;32m   1010\u001b[0m         \u001b[0mminor_indices\u001b[0m \u001b[0;34m=\u001b[0m \u001b[0mself\u001b[0m\u001b[0;34m.\u001b[0m\u001b[0mindices\u001b[0m\u001b[0;34m\u001b[0m\u001b[0;34m\u001b[0m\u001b[0m\n\u001b[0;32m-> 1011\u001b[0;31m         \u001b[0mmajor_indices\u001b[0m \u001b[0;34m=\u001b[0m \u001b[0mnp\u001b[0m\u001b[0;34m.\u001b[0m\u001b[0mempty\u001b[0m\u001b[0;34m(\u001b[0m\u001b[0mlen\u001b[0m\u001b[0;34m(\u001b[0m\u001b[0mminor_indices\u001b[0m\u001b[0;34m)\u001b[0m\u001b[0;34m,\u001b[0m \u001b[0mdtype\u001b[0m\u001b[0;34m=\u001b[0m\u001b[0mself\u001b[0m\u001b[0;34m.\u001b[0m\u001b[0mindices\u001b[0m\u001b[0;34m.\u001b[0m\u001b[0mdtype\u001b[0m\u001b[0;34m)\u001b[0m\u001b[0;34m\u001b[0m\u001b[0;34m\u001b[0m\u001b[0m\n\u001b[0m\u001b[1;32m   1012\u001b[0m         \u001b[0m_sparsetools\u001b[0m\u001b[0;34m.\u001b[0m\u001b[0mexpandptr\u001b[0m\u001b[0;34m(\u001b[0m\u001b[0mmajor_dim\u001b[0m\u001b[0;34m,\u001b[0m \u001b[0mself\u001b[0m\u001b[0;34m.\u001b[0m\u001b[0mindptr\u001b[0m\u001b[0;34m,\u001b[0m \u001b[0mmajor_indices\u001b[0m\u001b[0;34m)\u001b[0m\u001b[0;34m\u001b[0m\u001b[0;34m\u001b[0m\u001b[0m\n\u001b[1;32m   1013\u001b[0m         \u001b[0mrow\u001b[0m\u001b[0;34m,\u001b[0m \u001b[0mcol\u001b[0m \u001b[0;34m=\u001b[0m \u001b[0mself\u001b[0m\u001b[0;34m.\u001b[0m\u001b[0m_swap\u001b[0m\u001b[0;34m(\u001b[0m\u001b[0;34m(\u001b[0m\u001b[0mmajor_indices\u001b[0m\u001b[0;34m,\u001b[0m \u001b[0mminor_indices\u001b[0m\u001b[0;34m)\u001b[0m\u001b[0;34m)\u001b[0m\u001b[0;34m\u001b[0m\u001b[0;34m\u001b[0m\u001b[0m\n",
      "\u001b[0;31mKeyboardInterrupt\u001b[0m: "
     ]
    }
   ],
   "source": [
    "device = next(admissible_model.parameters()).device\n",
    "xy_data_tensor = torch.from_numpy(xy_data).to(device)\n",
    "z_label_tensor = torch.from_numpy(z_label).to(device)\n",
    "\n",
    "num_epoch = 100\n",
    "\n",
    "qp_fun = QPFunction(verbose=False,solver=QPSolvers.CVXPY,check_Q_spd=True)\n",
    "\n",
    "regularize = True\n",
    "\n",
    "for epoch in range(num_epoch):\n",
    "    batch_start = 0\n",
    "    \n",
    "    while batch_start < num_data:\n",
    "        batch_end = min(num_data-1,batch_start+batch_size)\n",
    "        x = xy_data_tensor[batch_start:batch_end,:]\n",
    "        z = z_label_tensor[batch_start:batch_end,:]\n",
    "        z_pred = admissible_model(x)\n",
    "        fit_loss = loss_fn(z_pred, z) / batch_size\n",
    "        \n",
    "        if regularize:\n",
    "            # find an adverserial example\n",
    "            with torch.no_grad():\n",
    "                (prob,objective,constraints,var) = system.get_adversarial_miqp(admissible_model,paddle_x0,ball_x0_min,ball_x0_max,ball_xg,N)\n",
    "                prob.solve(solver=cp.CPLEX)\n",
    "                bi = np.array(var['bi'].value)\n",
    "                v = [np.array(v.value) for v in var['v']]\n",
    "                #print(\"adv: %f\" % objective.value)\n",
    "            prob = system.get_adversarial_qp_standard(admissible_model,paddle_x0,ball_x0_min,ball_x0_max,ball_xg,N,bi=bi,v=v)    \n",
    "            QI = 1e-6*torch.eye(prob.num_vars).to(device).type(prob.dtype)\n",
    "            x_adv = qp_fun(prob.Q + QI, prob.q, prob.G, prob.h, prob.A, prob.b)\n",
    "            r = prob.eval_obj(x_adv)\n",
    "            #print(\"relaxed adv: %f\" % r.item())\n",
    "            reg_loss = F.relu(-r) * 10.\n",
    "        else:\n",
    "            reg_loss = 0.\n",
    "                \n",
    "        loss = fit_loss + reg_loss\n",
    "    \n",
    "        optimizer.zero_grad()\n",
    "        loss.backward(retain_graph=True)\n",
    "        optimizer.step()\n",
    "        \n",
    "        batch_start += batch_size\n",
    "    \n",
    "    if epoch % 10 == 0:\n",
    "        if regularize:\n",
    "            print(\"reg: %f\" % reg_loss.item())\n",
    "        print(\"fit: %f\" % fit_loss.item())\n",
    "        print(\"loss: %f\" % loss.item())"
   ]
  },
  {
   "cell_type": "code",
   "execution_count": 87,
   "metadata": {},
   "outputs": [
    {
     "name": "stdout",
     "output_type": "stream",
     "text": [
      "0.21064446426117556\n"
     ]
    }
   ],
   "source": [
    "(prob,objective,constraints,var) = system.get_adversarial_miqp(admissible_model,paddle_x0,ball_x0_min,ball_x0_max,ball_xg,N)\n",
    "prob.solve(solver=cp.CPLEX)\n",
    "\n",
    "worst_input_admiss = np.array(var['zb'].value[:,0])\n",
    "\n",
    "print(objective.value)"
   ]
  },
  {
   "cell_type": "code",
   "execution_count": 88,
   "metadata": {},
   "outputs": [
    {
     "name": "stdout",
     "output_type": "stream",
     "text": [
      "-20.195069236400055\n"
     ]
    }
   ],
   "source": [
    "(prob,objective,constraints,var) = system.get_adversarial_qp(admissible_model,paddle_x0,ball_x0_min,ball_x0_max,ball_xg,N)\n",
    "prob.solve()\n",
    "\n",
    "print(objective.value)"
   ]
  },
  {
   "cell_type": "markdown",
   "metadata": {},
   "source": [
    "### Plotting the samples and the approximated cost-to-go"
   ]
  },
  {
   "cell_type": "code",
   "execution_count": 89,
   "metadata": {},
   "outputs": [
    {
     "name": "stdout",
     "output_type": "stream",
     "text": [
      "=== NOT ADMISSIBLE ===\n",
      "Neural network\n",
      "[1.2119568  0.83773706]\n",
      "[14.13808438]\n",
      "Optimization problem\n",
      "[1.2119568  0.83773706]\n",
      "10.520955209006617\n",
      "Optimization of closest on grid\n",
      "[1.25, 0.8333333333333335]\n",
      "15.371058331511865\n",
      "Neural network of closest on grid\n",
      "[1.25, 0.8333333333333335]\n",
      "[14.55752815]\n",
      "\n",
      "=== ADMISSIBLE ===\n",
      "Admissible neural network (same input as nonadmissible)\n",
      "[1.2119568  0.83773706]\n",
      "[9.71301762]\n",
      "Admissible neural network (worst for this network)\n",
      "[ 0.4962 -1.5   ]\n",
      "[2.53654325]\n",
      "Optimization problem\n",
      "[ 0.4962 -1.5   ]\n",
      "2.7471877175681088\n",
      "Optimization of closest on grid\n",
      "[0.41666666666666663, -1.5]\n",
      "2.930658841307967\n",
      "Neural network of closest on grid\n",
      "[0.41666666666666663, -1.5]\n",
      "[2.17692674]\n"
     ]
    }
   ],
   "source": [
    "print(\"=== NOT ADMISSIBLE ===\")\n",
    "\n",
    "print(\"Neural network\")\n",
    "print(worst_input)\n",
    "with torch.no_grad():\n",
    "    worst_value = model(torch.from_numpy(worst_input).to(device)).cpu().numpy()\n",
    "print(worst_value)\n",
    "\n",
    "print(\"Optimization problem\")\n",
    "print(worst_input)\n",
    "(prob,objective,constraints,var) = system.get_trajectory_miqp(paddle_x0,worst_input,ball_xg,N)\n",
    "prob.solve(solver=cp.CPLEX)\n",
    "worst_opt_val = objective.value\n",
    "print(worst_opt_val)\n",
    "\n",
    "print(\"Optimization of closest on grid\")\n",
    "worst_input_grid = [utils.find_nearest(ball_x0_pos,worst_input[0]),utils.find_nearest(ball_x0_vel,worst_input[1])]\n",
    "print(worst_input_grid)\n",
    "(prob,objective,constraints,var) = system.get_trajectory_miqp(paddle_x0,worst_input_grid,ball_xg,N)\n",
    "prob.solve(solver=cp.CPLEX)\n",
    "worst_opt_val_grid = objective.value\n",
    "print(worst_opt_val_grid)\n",
    "\n",
    "print(\"Neural network of closest on grid\")\n",
    "print(worst_input_grid)\n",
    "with torch.no_grad():\n",
    "    worst_value_grid = model(torch.from_numpy(np.array(worst_input_grid)).to(device)).cpu().numpy()\n",
    "print(worst_value_grid)\n",
    "\n",
    "print(\"\\n=== ADMISSIBLE ===\")\n",
    "\n",
    "print(\"Admissible neural network (same input as nonadmissible)\")\n",
    "print(worst_input)\n",
    "with torch.no_grad():\n",
    "    worst_value_same = admissible_model(torch.from_numpy(worst_input).to(device)).cpu().numpy()\n",
    "print(worst_value_same)\n",
    "\n",
    "print(\"Admissible neural network (worst for this network)\")\n",
    "print(worst_input_admiss)\n",
    "with torch.no_grad():\n",
    "    worst_value_admiss = admissible_model(torch.from_numpy(worst_input_admiss).to(device)).cpu().numpy()\n",
    "print(worst_value_admiss)\n",
    "\n",
    "print(\"Optimization problem\")\n",
    "print(worst_input_admiss)\n",
    "(prob,objective,constraints,var) = system.get_trajectory_miqp(paddle_x0,worst_input_admiss,ball_xg,N)\n",
    "prob.solve(solver=cp.CPLEX)\n",
    "worst_opt_val_admiss = objective.value\n",
    "print(worst_opt_val_admiss)\n",
    "\n",
    "print(\"Optimization of closest on grid\")\n",
    "worst_input_grid_admiss = [utils.find_nearest(ball_x0_pos,worst_input_admiss[0]),utils.find_nearest(ball_x0_vel,worst_input_admiss[1])]\n",
    "print(worst_input_grid_admiss)\n",
    "(prob,objective,constraints,var) = system.get_trajectory_miqp(paddle_x0,worst_input_grid_admiss,ball_xg,N)\n",
    "prob.solve(solver=cp.CPLEX)\n",
    "worst_opt_val_admiss_grid = objective.value\n",
    "print(worst_opt_val_admiss_grid)\n",
    "\n",
    "print(\"Neural network of closest on grid\")\n",
    "print(worst_input_grid_admiss)\n",
    "with torch.no_grad():\n",
    "    worst_value_admiss_grid = admissible_model(torch.from_numpy(np.array(worst_input_grid_admiss)).to(device)).cpu().numpy()\n",
    "print(worst_value_admiss_grid)"
   ]
  },
  {
   "cell_type": "code",
   "execution_count": 90,
   "metadata": {},
   "outputs": [],
   "source": [
    "with torch.no_grad():\n",
    "    z_pred = model(torch.from_numpy(xy_data).to(device)).cpu().numpy()\n",
    "    z_pred_admiss = admissible_model(torch.from_numpy(xy_data).to(device)).cpu().numpy()\n",
    "    \n",
    "# unshuffle\n",
    "z_pred = z_pred[[np.argwhere(indx == i)[0,0] for i in np.arange(num_data)]]\n",
    "Z_pred = np.reshape(z_pred,BALL_POS.shape)\n",
    "\n",
    "z_pred_admiss = z_pred_admiss[[np.argwhere(indx == i)[0,0] for i in np.arange(num_data)]]\n",
    "Z_pred_admiss = np.reshape(z_pred_admiss,BALL_POS.shape)"
   ]
  },
  {
   "cell_type": "code",
   "execution_count": 91,
   "metadata": {},
   "outputs": [
    {
     "data": {
      "application/vnd.jupyter.widget-view+json": {
       "model_id": "d4cc6ae8104043fd83558fd8f0862ca4",
       "version_major": 2,
       "version_minor": 0
      },
      "text/plain": [
       "Canvas(toolbar=Toolbar(toolitems=[('Home', 'Reset original view', 'home', 'home'), ('Back', 'Back to previous …"
      ]
     },
     "metadata": {},
     "output_type": "display_data"
    },
    {
     "data": {
      "text/plain": [
       "<mpl_toolkits.mplot3d.art3d.Poly3DCollection at 0x7f1cf037ef28>"
      ]
     },
     "execution_count": 91,
     "metadata": {},
     "output_type": "execute_result"
    }
   ],
   "source": [
    "fig = plt.figure()\n",
    "ax = fig.gca(projection='3d')\n",
    "ax.plot_surface(BALL_POS, BALL_VEL, BALL_VAL, rstride=1, cstride=1,\n",
    "                cmap='plasma', edgecolor='none')\n",
    "ax.plot_surface(BALL_POS, BALL_VEL, Z_pred, rstride=1, cstride=1,\n",
    "                cmap='Greys', edgecolor='none')\n",
    "ax.plot_surface(BALL_POS, BALL_VEL, Z_pred_admiss, rstride=1, cstride=1,\n",
    "                cmap='viridis', edgecolor='none')"
   ]
  },
  {
   "cell_type": "code",
   "execution_count": 92,
   "metadata": {},
   "outputs": [
    {
     "data": {
      "application/vnd.jupyter.widget-view+json": {
       "model_id": "c86662d2237f4fd2886dcca8b7e6bec0",
       "version_major": 2,
       "version_minor": 0
      },
      "text/plain": [
       "Canvas(toolbar=Toolbar(toolitems=[('Home', 'Reset original view', 'home', 'home'), ('Back', 'Back to previous …"
      ]
     },
     "metadata": {},
     "output_type": "display_data"
    },
    {
     "data": {
      "text/plain": [
       "<mpl_toolkits.mplot3d.art3d.Poly3DCollection at 0x7f1cf07464e0>"
      ]
     },
     "execution_count": 92,
     "metadata": {},
     "output_type": "execute_result"
    }
   ],
   "source": [
    "fig = plt.figure()\n",
    "ax = fig.gca(projection='3d')\n",
    "ax.plot_surface(BALL_POS, BALL_VEL, np.minimum(BALL_VAL - Z_pred_admiss,0.), rstride=1, cstride=1,\n",
    "                cmap='Reds', edgecolor='none')"
   ]
  }
 ],
 "metadata": {
  "kernelspec": {
   "display_name": "Python 3",
   "language": "python",
   "name": "python3"
  },
  "language_info": {
   "codemirror_mode": {
    "name": "ipython",
    "version": 3
   },
   "file_extension": ".py",
   "mimetype": "text/x-python",
   "name": "python",
   "nbconvert_exporter": "python",
   "pygments_lexer": "ipython3",
   "version": "3.6.8"
  }
 },
 "nbformat": 4,
 "nbformat_minor": 4
}
