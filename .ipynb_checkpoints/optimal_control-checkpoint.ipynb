{
 "cells": [
  {
   "cell_type": "code",
   "execution_count": 1,
   "metadata": {},
   "outputs": [],
   "source": [
    "%load_ext autoreload\n",
    "%autoreload 2\n",
    "\n",
    "# %matplotlib inline\n",
    "%matplotlib widget\n",
    "\n",
    "import numpy as np\n",
    "import matplotlib.pyplot as plt\n",
    "from mpl_toolkits.mplot3d import axes3d\n",
    "\n",
    "import cvxpy as cp\n",
    "import torch\n",
    "import torch.nn.functional as F\n",
    "from torch.utils.tensorboard import SummaryWriter\n",
    "\n",
    "from qpth.qp import QPFunction, QPSolvers\n",
    "\n",
    "import warnings\n",
    "warnings.filterwarnings('ignore')\n",
    "\n",
    "import sys,os\n",
    "sys.path.append(os.getcwd())\n",
    "\n",
    "import BallPaddleSystem\n",
    "import utils"
   ]
  },
  {
   "cell_type": "code",
   "execution_count": 2,
   "metadata": {},
   "outputs": [],
   "source": [
    "system = BallPaddleSystem.BallPaddleSystem(dt=.05,u_max=2.)\n",
    "ball_x0_min = np.array([0.25, -1.5])\n",
    "ball_x0_max = np.array([1.75, 2.])\n",
    "paddle_x0 = np.array([0.,0.])\n",
    "ball_xg = np.array([1.,0.])\n",
    "N = 20"
   ]
  },
  {
   "cell_type": "code",
   "execution_count": 8,
   "metadata": {},
   "outputs": [],
   "source": [
    "dim_pos = 10\n",
    "dim_vel = 10\n",
    "ball_x0_pos = np.linspace(ball_x0_min[0], ball_x0_max[0], dim_pos)\n",
    "ball_x0_vel = np.linspace(ball_x0_min[1], ball_x0_max[1], dim_vel)\n",
    "BALL_POS, BALL_VEL = np.meshgrid(ball_x0_pos, ball_x0_vel)"
   ]
  },
  {
   "cell_type": "code",
   "execution_count": 9,
   "metadata": {},
   "outputs": [
    {
     "name": "stdout",
     "output_type": "stream",
     "text": [
      "Progress: [########################################] 100.0%\n"
     ]
    }
   ],
   "source": [
    "BALL_VAL = np.zeros(BALL_POS.shape)\n",
    "for i in range(BALL_POS.shape[0]):\n",
    "    for j in range(BALL_POS.shape[1]):\n",
    "        (prob,objective,constraints,var) = system.get_trajectory_miqp(paddle_x0,[BALL_POS[i,j],BALL_VEL[i,j]],ball_xg,N)\n",
    "        prob.solve(solver=cp.CPLEX)\n",
    "        val = objective.value\n",
    "        if val:\n",
    "            BALL_VAL[i,j] = val\n",
    "        else:\n",
    "            BALL_VAL[i,j] = None\n",
    "            \n",
    "        utils.update_progress((i*BALL_POS.shape[1]+j+1)/(BALL_POS.shape[0]*BALL_POS.shape[1]))"
   ]
  },
  {
   "cell_type": "code",
   "execution_count": 10,
   "metadata": {},
   "outputs": [],
   "source": [
    "# clean the data\n",
    "np.nan_to_num(BALL_VAL,copy=False,nan=np.nanmax(BALL_VAL));"
   ]
  },
  {
   "cell_type": "code",
   "execution_count": 11,
   "metadata": {},
   "outputs": [
    {
     "data": {
      "application/vnd.jupyter.widget-view+json": {
       "model_id": "fcc14205e8314c85af17ec3dd53f4cd5",
       "version_major": 2,
       "version_minor": 0
      },
      "text/plain": [
       "Canvas(toolbar=Toolbar(toolitems=[('Home', 'Reset original view', 'home', 'home'), ('Back', 'Back to previous …"
      ]
     },
     "metadata": {},
     "output_type": "display_data"
    },
    {
     "data": {
      "text/plain": [
       "<mpl_toolkits.mplot3d.art3d.Poly3DCollection at 0x7fa2b1d9dc18>"
      ]
     },
     "execution_count": 11,
     "metadata": {},
     "output_type": "execute_result"
    }
   ],
   "source": [
    "fig = plt.figure()\n",
    "ax = fig.gca(projection='3d')\n",
    "ax.plot_surface(BALL_POS, BALL_VEL, BALL_VAL, rstride=1, cstride=1,\n",
    "                cmap='plasma', edgecolor='none')"
   ]
  },
  {
   "cell_type": "code",
   "execution_count": 12,
   "metadata": {},
   "outputs": [],
   "source": [
    "xy_data = np.vstack((np.reshape(BALL_POS,-1),np.reshape(BALL_VEL,-1))).T\n",
    "z_label = np.expand_dims(np.reshape(BALL_VAL,-1),axis=1)\n",
    "\n",
    "# shuffle it\n",
    "num_data = xy_data.shape[0]\n",
    "indx = np.arange(num_data)\n",
    "np.random.shuffle(indx)\n",
    "\n",
    "xy_data = xy_data[indx,:]\n",
    "z_label = z_label[indx,:]"
   ]
  },
  {
   "cell_type": "code",
   "execution_count": 13,
   "metadata": {},
   "outputs": [],
   "source": [
    "learning_rate = 1e-3\n",
    "batch_size = 50\n",
    "\n",
    "nn_width = 12\n",
    "model = torch.nn.Sequential(\n",
    "    torch.nn.Linear(2, nn_width),\n",
    "    torch.nn.ReLU(),\n",
    "    torch.nn.Linear(nn_width, nn_width),\n",
    "    torch.nn.ReLU(),\n",
    "    torch.nn.Linear(nn_width, 1)\n",
    ")\n",
    "model.double()\n",
    "\n",
    "loss_fn = torch.nn.MSELoss(reduction='sum')\n",
    "# optimizer = torch.optim.SGD(model.parameters(), lr=learning_rate)\n",
    "optimizer = torch.optim.Adam(model.parameters(), lr=learning_rate)\n",
    "\n",
    "# writer = SummaryWriter()\n",
    "n_iter = 0"
   ]
  },
  {
   "cell_type": "code",
   "execution_count": 21,
   "metadata": {},
   "outputs": [
    {
     "name": "stdout",
     "output_type": "stream",
     "text": [
      "loss: 1.340674\n",
      "loss: 1.323823\n",
      "loss: 1.305751\n",
      "loss: 1.288768\n",
      "loss: 1.275126\n",
      "loss: 1.261302\n",
      "loss: 1.247209\n",
      "loss: 1.231979\n",
      "loss: 1.216868\n",
      "loss: 1.202059\n"
     ]
    }
   ],
   "source": [
    "device = next(model.parameters()).device\n",
    "xy_data_tensor = torch.from_numpy(xy_data).to(device)\n",
    "z_label_tensor = torch.from_numpy(z_label).to(device)\n",
    "\n",
    "num_epoch = 100\n",
    "\n",
    "for epoch in range(num_epoch):\n",
    "    batch_start = 0\n",
    "    while batch_start < num_data:\n",
    "        batch_end = min(num_data-1,batch_start+batch_size)\n",
    "        x = xy_data_tensor[batch_start:batch_end,:]\n",
    "        z = z_label_tensor[batch_start:batch_end,:]\n",
    "        z_pred = model(x)\n",
    "        loss = loss_fn(z_pred, z) / batch_size\n",
    "        optimizer.zero_grad()\n",
    "        loss.backward()\n",
    "        optimizer.step()\n",
    "        batch_start += batch_size\n",
    "        n_iter += 1\n",
    "    if epoch % 10 == 0:\n",
    "        print(\"loss: %f\" % loss.item())\n",
    "#         writer.add_scalar('Loss/train', loss.item(), n_iter)"
   ]
  },
  {
   "cell_type": "code",
   "execution_count": null,
   "metadata": {},
   "outputs": [],
   "source": [
    "writer.close()"
   ]
  },
  {
   "cell_type": "code",
   "execution_count": 22,
   "metadata": {},
   "outputs": [],
   "source": [
    "with torch.no_grad():\n",
    "    z_pred = model(torch.from_numpy(xy_data).to(device)).cpu().numpy()\n",
    "    \n",
    "# unshuffle\n",
    "z_pred = z_pred[[np.argwhere(indx == i)[0,0] for i in np.arange(num_data)]]\n",
    "Z_pred = np.reshape(z_pred,BALL_POS.shape)"
   ]
  },
  {
   "cell_type": "code",
   "execution_count": 23,
   "metadata": {},
   "outputs": [
    {
     "data": {
      "application/vnd.jupyter.widget-view+json": {
       "model_id": "e5b7db7eb5bc479fb2ee7ac3d6054498",
       "version_major": 2,
       "version_minor": 0
      },
      "text/plain": [
       "Canvas(toolbar=Toolbar(toolitems=[('Home', 'Reset original view', 'home', 'home'), ('Back', 'Back to previous …"
      ]
     },
     "metadata": {},
     "output_type": "display_data"
    },
    {
     "data": {
      "text/plain": [
       "<mpl_toolkits.mplot3d.art3d.Poly3DCollection at 0x7fa2a3dc4cc0>"
      ]
     },
     "execution_count": 23,
     "metadata": {},
     "output_type": "execute_result"
    }
   ],
   "source": [
    "fig = plt.figure()\n",
    "ax = fig.gca(projection='3d')\n",
    "ax.plot_surface(BALL_POS, BALL_VEL, BALL_VAL, rstride=1, cstride=1,\n",
    "                cmap='plasma', edgecolor='none')\n",
    "ax.plot_surface(BALL_POS, BALL_VEL, Z_pred, rstride=1, cstride=1,\n",
    "                cmap='viridis', edgecolor='none')"
   ]
  },
  {
   "cell_type": "code",
   "execution_count": 24,
   "metadata": {},
   "outputs": [
    {
     "name": "stdout",
     "output_type": "stream",
     "text": [
      "-3.4079201126356793\n"
     ]
    }
   ],
   "source": [
    "(prob,objective,constraints,var) = system.get_adversarial_miqp(model,paddle_x0,ball_x0_min,ball_x0_max,ball_xg,N)\n",
    "prob.solve(solver=cp.CPLEX)\n",
    "\n",
    "worst_input = np.array(var['zb'].value[:,0])\n",
    "\n",
    "print(objective.value)"
   ]
  },
  {
   "cell_type": "code",
   "execution_count": 26,
   "metadata": {},
   "outputs": [
    {
     "name": "stdout",
     "output_type": "stream",
     "text": [
      "Neural network\n",
      "[1.57572578 0.14484375]\n",
      "[15.46341505]\n",
      "Optimization problem\n",
      "[1.57572578 0.14484375]\n",
      "12.055494936233318\n",
      "Optimization of closest on grid\n",
      "[1.5833333333333333, 0.05555555555555558]\n",
      "15.674873518386736\n",
      "Neural network of closest on grid\n",
      "[1.5833333333333333, 0.05555555555555558]\n",
      "[15.21047535]\n"
     ]
    }
   ],
   "source": [
    "print(\"Neural network\")\n",
    "print(worst_input)\n",
    "with torch.no_grad():\n",
    "    worst_value = model(torch.from_numpy(worst_input).to(device)).cpu().numpy()\n",
    "print(worst_value)\n",
    "\n",
    "print(\"Optimization problem\")\n",
    "print(worst_input)\n",
    "(prob,objective,constraints,var) = system.get_trajectory_miqp(paddle_x0,worst_input,ball_xg,N)\n",
    "prob.solve(solver=cp.CPLEX)\n",
    "worst_opt_val = objective.value\n",
    "worst_ball_traj = np.array(var['zb'].value)\n",
    "worst_paddle_traj = np.array(var['zp'].value)\n",
    "worst_paddle_contact = np.array(var['bi'].value)\n",
    "print(worst_opt_val)\n",
    "# print(worst_paddle_contact)\n",
    "\n",
    "print(\"Optimization of closest on grid\")\n",
    "worst_input_grid = [utils.find_nearest(ball_x0_pos,worst_input[0]),utils.find_nearest(ball_x0_vel,worst_input[1])]\n",
    "print(worst_input_grid)\n",
    "(prob,objective,constraints,var) = system.get_trajectory_miqp(paddle_x0,worst_input_grid,ball_xg,N)\n",
    "prob.solve(solver=cp.CPLEX)\n",
    "worst_opt_val_grid = objective.value\n",
    "worst_ball_traj_grid = np.array(var['zb'].value)\n",
    "worst_paddle_traj_grid = np.array(var['zp'].value)\n",
    "worst_paddle_contact_grid = np.array(var['bi'].value)\n",
    "print(worst_opt_val_grid)\n",
    "# print(worst_paddle_contact_grid)\n",
    "\n",
    "print(\"Neural network of closest on grid\")\n",
    "print(worst_input_grid)\n",
    "with torch.no_grad():\n",
    "    worst_value_grid = model(torch.from_numpy(np.array(worst_input_grid)).to(device)).cpu().numpy()\n",
    "print(worst_value_grid)"
   ]
  },
  {
   "cell_type": "code",
   "execution_count": 27,
   "metadata": {},
   "outputs": [
    {
     "data": {
      "application/vnd.jupyter.widget-view+json": {
       "model_id": "4aa8321020be40f2a8075ede8aae518f",
       "version_major": 2,
       "version_minor": 0
      },
      "text/plain": [
       "Canvas(toolbar=Toolbar(toolitems=[('Home', 'Reset original view', 'home', 'home'), ('Back', 'Back to previous …"
      ]
     },
     "metadata": {},
     "output_type": "display_data"
    },
    {
     "data": {
      "text/plain": [
       "<matplotlib.legend.Legend at 0x7fa2b04804a8>"
      ]
     },
     "execution_count": 27,
     "metadata": {},
     "output_type": "execute_result"
    }
   ],
   "source": [
    "fig = plt.figure()\n",
    "plt.plot(worst_ball_traj[0,:],label=\"adverserial\")\n",
    "plt.plot(worst_ball_traj_grid[0,:],label=\"grid\")\n",
    "plt.legend()"
   ]
  },
  {
   "cell_type": "code",
   "execution_count": 28,
   "metadata": {},
   "outputs": [
    {
     "data": {
      "application/vnd.jupyter.widget-view+json": {
       "model_id": "224eaa13963048099714aadedae3ebdd",
       "version_major": 2,
       "version_minor": 0
      },
      "text/plain": [
       "Canvas(toolbar=Toolbar(toolitems=[('Home', 'Reset original view', 'home', 'home'), ('Back', 'Back to previous …"
      ]
     },
     "metadata": {},
     "output_type": "display_data"
    },
    {
     "data": {
      "text/plain": [
       "<matplotlib.legend.Legend at 0x7fa2a322cb00>"
      ]
     },
     "execution_count": 28,
     "metadata": {},
     "output_type": "execute_result"
    }
   ],
   "source": [
    "fig = plt.figure()\n",
    "plt.plot(worst_ball_traj[0,:],\".-\",label=\"adverserial ball\")\n",
    "plt.plot(worst_ball_traj_grid[0,:],\".-\",label=\"grid ball\")\n",
    "plt.plot(worst_paddle_traj[0,:],\".-\",label=\"adverserial paddle\")\n",
    "plt.plot(worst_paddle_traj_grid[0,:],\".-\",label=\"grid paddle\")\n",
    "plt.legend()"
   ]
  },
  {
   "cell_type": "code",
   "execution_count": 29,
   "metadata": {},
   "outputs": [
    {
     "data": {
      "application/vnd.jupyter.widget-view+json": {
       "model_id": "5714b82bbef24a2d860f89a0269a5ff1",
       "version_major": 2,
       "version_minor": 0
      },
      "text/plain": [
       "Canvas(toolbar=Toolbar(toolitems=[('Home', 'Reset original view', 'home', 'home'), ('Back', 'Back to previous …"
      ]
     },
     "metadata": {},
     "output_type": "display_data"
    },
    {
     "data": {
      "text/plain": [
       "<matplotlib.legend.Legend at 0x7fa2a32f3e48>"
      ]
     },
     "execution_count": 29,
     "metadata": {},
     "output_type": "execute_result"
    }
   ],
   "source": [
    "fig = plt.figure()\n",
    "plt.plot(worst_paddle_traj[1,:],\".\",label=\"adverserial paddle\")\n",
    "plt.plot(worst_paddle_traj_grid[1,:],\".\",label=\"grid paddle\")\n",
    "plt.legend()"
   ]
  }
 ],
 "metadata": {
  "kernelspec": {
   "display_name": "Python 3",
   "language": "python",
   "name": "python3"
  },
  "language_info": {
   "codemirror_mode": {
    "name": "ipython",
    "version": 3
   },
   "file_extension": ".py",
   "mimetype": "text/x-python",
   "name": "python",
   "nbconvert_exporter": "python",
   "pygments_lexer": "ipython3",
   "version": "3.6.8"
  }
 },
 "nbformat": 4,
 "nbformat_minor": 4
}
